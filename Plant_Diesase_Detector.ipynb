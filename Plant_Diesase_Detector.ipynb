{
  "cells": [
    {
      "cell_type": "code",
      "execution_count": 1,
      "metadata": {
        "colab": {
          "base_uri": "https://localhost:8080/"
        },
        "id": "6ir1mbL7OyQr",
        "outputId": "31791b94-0001-46bb-c3d5-db041db9c5ac"
      },
      "outputs": [
        {
          "output_type": "stream",
          "name": "stdout",
          "text": [
            "Mounted at /content/MyDrive\n"
          ]
        }
      ],
      "source": [
        "from google.colab import drive\n",
        "drive.mount(\"/content/MyDrive\")"
      ]
    },
    {
      "cell_type": "code",
      "execution_count": 2,
      "metadata": {
        "id": "iEabNsDLQU-Q"
      },
      "outputs": [],
      "source": [
        "data_file_path = \"/content/MyDrive/MyDrive/Programming/Datasets/PlantVillage/crowdai_train.tar\"\n",
        "extracted_path = \"/content/data\""
      ]
    },
    {
      "cell_type": "code",
      "execution_count": 3,
      "metadata": {
        "id": "3nTgDyEMRX00"
      },
      "outputs": [],
      "source": [
        "import tarfile\n",
        "my_tar = tarfile.open(data_file_path)\n",
        "my_tar.extractall(extracted_path)\n",
        "my_tar.close()"
      ]
    },
    {
      "cell_type": "code",
      "execution_count": 4,
      "metadata": {
        "colab": {
          "base_uri": "https://localhost:8080/"
        },
        "id": "uxpE1EPvIsn9",
        "outputId": "14ebdff6-bccb-495e-dfe1-a895b887c972"
      },
      "outputs": [
        {
          "output_type": "stream",
          "name": "stdout",
          "text": [
            "Looking in indexes: https://pypi.org/simple, https://us-python.pkg.dev/colab-wheels/public/simple/\n",
            "Collecting wandb\n",
            "  Downloading wandb-0.12.17-py2.py3-none-any.whl (1.8 MB)\n",
            "\u001b[K     |████████████████████████████████| 1.8 MB 33.4 MB/s \n",
            "\u001b[?25hRequirement already satisfied: protobuf<4.0dev,>=3.12.0 in /usr/local/lib/python3.7/dist-packages (from wandb) (3.17.3)\n",
            "Requirement already satisfied: promise<3,>=2.0 in /usr/local/lib/python3.7/dist-packages (from wandb) (2.3)\n",
            "Collecting docker-pycreds>=0.4.0\n",
            "  Downloading docker_pycreds-0.4.0-py2.py3-none-any.whl (9.0 kB)\n",
            "Collecting pathtools\n",
            "  Downloading pathtools-0.1.2.tar.gz (11 kB)\n",
            "Collecting shortuuid>=0.5.0\n",
            "  Downloading shortuuid-1.0.9-py3-none-any.whl (9.4 kB)\n",
            "Requirement already satisfied: setuptools in /usr/local/lib/python3.7/dist-packages (from wandb) (57.4.0)\n",
            "Requirement already satisfied: psutil>=5.0.0 in /usr/local/lib/python3.7/dist-packages (from wandb) (5.4.8)\n",
            "Requirement already satisfied: six>=1.13.0 in /usr/local/lib/python3.7/dist-packages (from wandb) (1.15.0)\n",
            "Collecting GitPython>=1.0.0\n",
            "  Downloading GitPython-3.1.27-py3-none-any.whl (181 kB)\n",
            "\u001b[K     |████████████████████████████████| 181 kB 64.6 MB/s \n",
            "\u001b[?25hRequirement already satisfied: PyYAML in /usr/local/lib/python3.7/dist-packages (from wandb) (3.13)\n",
            "Requirement already satisfied: requests<3,>=2.0.0 in /usr/local/lib/python3.7/dist-packages (from wandb) (2.23.0)\n",
            "Requirement already satisfied: python-dateutil>=2.6.1 in /usr/local/lib/python3.7/dist-packages (from wandb) (2.8.2)\n",
            "Collecting setproctitle\n",
            "  Downloading setproctitle-1.2.3-cp37-cp37m-manylinux_2_5_x86_64.manylinux1_x86_64.manylinux_2_17_x86_64.manylinux2014_x86_64.whl (29 kB)\n",
            "Requirement already satisfied: Click!=8.0.0,>=7.0 in /usr/local/lib/python3.7/dist-packages (from wandb) (7.1.2)\n",
            "Collecting sentry-sdk>=1.0.0\n",
            "  Downloading sentry_sdk-1.5.12-py2.py3-none-any.whl (145 kB)\n",
            "\u001b[K     |████████████████████████████████| 145 kB 72.3 MB/s \n",
            "\u001b[?25hCollecting gitdb<5,>=4.0.1\n",
            "  Downloading gitdb-4.0.9-py3-none-any.whl (63 kB)\n",
            "\u001b[K     |████████████████████████████████| 63 kB 1.6 MB/s \n",
            "\u001b[?25hRequirement already satisfied: typing-extensions>=3.7.4.3 in /usr/local/lib/python3.7/dist-packages (from GitPython>=1.0.0->wandb) (4.2.0)\n",
            "Collecting smmap<6,>=3.0.1\n",
            "  Downloading smmap-5.0.0-py3-none-any.whl (24 kB)\n",
            "Requirement already satisfied: certifi>=2017.4.17 in /usr/local/lib/python3.7/dist-packages (from requests<3,>=2.0.0->wandb) (2022.5.18.1)\n",
            "Requirement already satisfied: chardet<4,>=3.0.2 in /usr/local/lib/python3.7/dist-packages (from requests<3,>=2.0.0->wandb) (3.0.4)\n",
            "Requirement already satisfied: urllib3!=1.25.0,!=1.25.1,<1.26,>=1.21.1 in /usr/local/lib/python3.7/dist-packages (from requests<3,>=2.0.0->wandb) (1.24.3)\n",
            "Requirement already satisfied: idna<3,>=2.5 in /usr/local/lib/python3.7/dist-packages (from requests<3,>=2.0.0->wandb) (2.10)\n",
            "Building wheels for collected packages: pathtools\n",
            "  Building wheel for pathtools (setup.py) ... \u001b[?25l\u001b[?25hdone\n",
            "  Created wheel for pathtools: filename=pathtools-0.1.2-py3-none-any.whl size=8806 sha256=758e419a80d0fe370477888d95ec33c98ee94f67f35f9c0f33f9fbb1f6ce60f9\n",
            "  Stored in directory: /root/.cache/pip/wheels/3e/31/09/fa59cef12cdcfecc627b3d24273699f390e71828921b2cbba2\n",
            "Successfully built pathtools\n",
            "Installing collected packages: smmap, gitdb, shortuuid, setproctitle, sentry-sdk, pathtools, GitPython, docker-pycreds, wandb\n",
            "Successfully installed GitPython-3.1.27 docker-pycreds-0.4.0 gitdb-4.0.9 pathtools-0.1.2 sentry-sdk-1.5.12 setproctitle-1.2.3 shortuuid-1.0.9 smmap-5.0.0 wandb-0.12.17\n"
          ]
        }
      ],
      "source": [
        "!pip install wandb"
      ]
    },
    {
      "cell_type": "code",
      "execution_count": 1,
      "metadata": {
        "id": "7sZbBXAkRuoz"
      },
      "outputs": [],
      "source": [
        "import torch\n",
        "import torchvision\n",
        "import config\n",
        "import utils\n",
        "import models\n",
        "import wandb\n",
        "import torchvision.transforms as transforms\n",
        "from torch.utils.data import SubsetRandomSampler,DataLoader"
      ]
    },
    {
      "cell_type": "code",
      "execution_count": 2,
      "metadata": {
        "colab": {
          "base_uri": "https://localhost:8080/"
        },
        "id": "CCDzMZiVIBKi",
        "outputId": "445eabf2-8bdb-4f93-f933-a49f4145ac63"
      },
      "outputs": [
        {
          "output_type": "stream",
          "name": "stderr",
          "text": [
            "\u001b[34m\u001b[1mwandb\u001b[0m: Currently logged in as: \u001b[33mshashi7679\u001b[0m. Use \u001b[1m`wandb login --relogin`\u001b[0m to force relogin\n",
            "\u001b[34m\u001b[1mwandb\u001b[0m: \u001b[33mWARNING\u001b[0m If you're specifying your api key in code, ensure this code is not shared publicly.\n",
            "\u001b[34m\u001b[1mwandb\u001b[0m: \u001b[33mWARNING\u001b[0m Consider setting the WANDB_API_KEY environment variable, or running `wandb login` from the command line.\n",
            "\u001b[34m\u001b[1mwandb\u001b[0m: Appending key for api.wandb.ai to your netrc file: /root/.netrc\n"
          ]
        },
        {
          "output_type": "execute_result",
          "data": {
            "text/plain": [
              "True"
            ]
          },
          "metadata": {},
          "execution_count": 2
        }
      ],
      "source": [
        "torch.backends.cudnn.benchmarks = True\n",
        "\n",
        "torch.backends.cudnn.deterministic = True\n",
        "\n",
        "wandb.login(key='46f2d6a5ffcc458fed2cca6cf446900f97e396e1')"
      ]
    },
    {
      "cell_type": "code",
      "execution_count": 3,
      "metadata": {
        "id": "pwSaCpNoJDlj"
      },
      "outputs": [],
      "source": [
        "######################################## HYPERPARAMETERS ##############################################\n",
        "\n",
        "params=dict(\n",
        "IMAGE_SIZE = config.IMAGE_SIZE,\n",
        "BATCH_SIZE = config.BATCH_SIZE,\n",
        "EPOCHS = config.EPOCHS,\n",
        "LEARNING_RATE = config.LEARNING_RATE,\n",
        "N_WORKER = 4,\n",
        "Model=\"ResNet18\",\n",
        "saved_path = '/content/MyDrive/MyDrive/Programming/Datasets/PlantVillage/saved'\n",
        ")"
      ]
    },
    {
      "cell_type": "code",
      "execution_count": 4,
      "metadata": {
        "colab": {
          "base_uri": "https://localhost:8080/",
          "height": 69
        },
        "id": "skN1OPDTKHd-",
        "outputId": "ecf7f6c2-bf58-43bc-f4b1-f3325265d11b"
      },
      "outputs": [
        {
          "output_type": "display_data",
          "data": {
            "text/plain": [
              "<IPython.core.display.HTML object>"
            ],
            "text/html": [
              "Tracking run with wandb version 0.12.17"
            ]
          },
          "metadata": {}
        },
        {
          "output_type": "display_data",
          "data": {
            "text/plain": [
              "<IPython.core.display.HTML object>"
            ],
            "text/html": [
              "Run data is saved locally in <code>/content/wandb/run-20220528_175811-uxep87pw</code>"
            ]
          },
          "metadata": {}
        },
        {
          "output_type": "display_data",
          "data": {
            "text/plain": [
              "<IPython.core.display.HTML object>"
            ],
            "text/html": [
              "Syncing run <strong><a href=\"https://wandb.ai/shashi7679/Plant%20Diesase%20Detector/runs/uxep87pw\" target=\"_blank\">crisp-plant-11</a></strong> to <a href=\"https://wandb.ai/shashi7679/Plant%20Diesase%20Detector\" target=\"_blank\">Weights & Biases</a> (<a href=\"https://wandb.me/run\" target=\"_blank\">docs</a>)<br/>"
            ]
          },
          "metadata": {}
        }
      ],
      "source": [
        "wandb.init(project='Plant Diesase Detector',config=params)\n",
        "params = wandb.config"
      ]
    },
    {
      "cell_type": "code",
      "execution_count": 5,
      "metadata": {
        "colab": {
          "base_uri": "https://localhost:8080/"
        },
        "id": "9AHtM0k8LTRJ",
        "outputId": "4ce070dd-1a16-4d93-83db-b37373c5625b"
      },
      "outputs": [
        {
          "output_type": "stream",
          "name": "stderr",
          "text": [
            "/usr/local/lib/python3.7/dist-packages/torch/utils/data/dataloader.py:490: UserWarning: This DataLoader will create 4 worker processes in total. Our suggested max number of worker in current system is 2, which is smaller than what this DataLoader is going to create. Please be aware that excessive worker creation might get DataLoader running slow or even freeze, lower the worker number to avoid potential slowness/freeze if necessary.\n",
            "  cpuset_checked))\n"
          ]
        }
      ],
      "source": [
        "train_loader,val_loader = utils.get_dataset()\n",
        "model = models.get_model()"
      ]
    },
    {
      "cell_type": "code",
      "execution_count": 6,
      "metadata": {
        "id": "10irbnvDLexR"
      },
      "outputs": [],
      "source": [
        "model = model.cuda()\n",
        "criterion = torch.nn.CrossEntropyLoss()\n",
        "Optimizer = torch.optim.Adam(model.parameters(), lr=config.LEARNING_RATE)"
      ]
    },
    {
      "cell_type": "code",
      "execution_count": 7,
      "metadata": {
        "colab": {
          "base_uri": "https://localhost:8080/"
        },
        "id": "Uri2zZWSNUz4",
        "outputId": "e32165d7-0d59-48d9-9645-6531f2d397eb"
      },
      "outputs": [
        {
          "output_type": "stream",
          "name": "stderr",
          "text": [
            "/usr/local/lib/python3.7/dist-packages/torch/utils/data/dataloader.py:490: UserWarning: This DataLoader will create 4 worker processes in total. Our suggested max number of worker in current system is 2, which is smaller than what this DataLoader is going to create. Please be aware that excessive worker creation might get DataLoader running slow or even freeze, lower the worker number to avoid potential slowness/freeze if necessary.\n",
            "  cpuset_checked))\n"
          ]
        },
        {
          "output_type": "stream",
          "name": "stdout",
          "text": [
            "EPOCHS [1]/[8]   Accuracy : 78.7402   Loss : 0.9617\n",
            "##############################\n",
            "Validation Accuracy : 96.4675    Validation Loss : 0.1538\n",
            "##############################\n",
            "EPOCHS [2]/[8]   Accuracy : 97.4848   Loss : 0.1034\n",
            "##############################\n",
            "Validation Accuracy : 98.1221    Validation Loss : 0.0676\n",
            "##############################\n",
            "EPOCHS [3]/[8]   Accuracy : 98.5401   Loss : 0.0555\n",
            "##############################\n",
            "Validation Accuracy : 98.3871    Validation Loss : 0.0514\n",
            "##############################\n",
            "EPOCHS [4]/[8]   Accuracy : 99.0477   Loss : 0.0355\n",
            "##############################\n",
            "Validation Accuracy : 98.8839    Validation Loss : 0.0348\n",
            "##############################\n",
            "EPOCHS [5]/[8]   Accuracy : 99.4240   Loss : 0.0253\n",
            "##############################\n",
            "Validation Accuracy : 98.9062    Validation Loss : 0.0361\n",
            "##############################\n",
            "EPOCHS [6]/[8]   Accuracy : 99.2985   Loss : 0.0258\n",
            "##############################\n",
            "Validation Accuracy : 99.0848    Validation Loss : 0.0276\n",
            "##############################\n",
            "EPOCHS [7]/[8]   Accuracy : 99.4354   Loss : 0.0206\n",
            "##############################\n",
            "Validation Accuracy : 99.1741    Validation Loss : 0.0220\n",
            "##############################\n",
            "EPOCHS [8]/[8]   Accuracy : 99.6122   Loss : 0.0149\n",
            "##############################\n",
            "Validation Accuracy : 99.0819    Validation Loss : 0.0265\n",
            "##############################\n"
          ]
        }
      ],
      "source": [
        "History = []\n",
        "for epoch in range(config.EPOCHS):\n",
        "  wandb.watch(model,criterion,log=\"all\")\n",
        "  #################################################################\n",
        "  ######################### Training ##############################\n",
        "  #################################################################\n",
        "  Epoch_acc = []\n",
        "  Epoch_loss = []\n",
        "  model.train()\n",
        "  for img,label in train_loader:\n",
        "    img, label = img.cuda(), label.cuda()\n",
        "    pred = model(img)\n",
        "    loss = criterion(pred, label)\n",
        "    loss.backward()\n",
        "    Optimizer.step()\n",
        "    Optimizer.zero_grad()\n",
        "    batch_acc = utils.accuracy(pred, label)\n",
        "    Epoch_acc.append(batch_acc)\n",
        "    Epoch_loss.append(loss)\n",
        "\n",
        "  train_acc = torch.stack(Epoch_acc).mean().item()\n",
        "  train_loss = torch.stack(Epoch_loss).mean().item()\n",
        "\n",
        "  print(f\"EPOCHS [{epoch+1}]/[{config.EPOCHS}]   Accuracy : {train_acc*100:.4f}   Loss : {train_loss:.4f}\")\n",
        "  ###################################################################\n",
        "  ########################## Evaluation #############################\n",
        "  ###################################################################\n",
        "  val_acc = []\n",
        "  val_loss = []\n",
        "  model.eval()\n",
        "  with torch.no_grad():\n",
        "    for img, label in val_loader:\n",
        "      img, label = img.cuda(), label.cuda()\n",
        "      pred = model(img)\n",
        "      loss = criterion(pred,label)\n",
        "      acc = utils.accuracy(pred,label)\n",
        "      val_loss.append(loss)\n",
        "      val_acc.append(acc)\n",
        "    \n",
        "    val_mean_acc = torch.stack(val_acc).mean().item()\n",
        "    val_mean_loss = torch.stack(val_loss).mean().item()\n",
        "  print(\"##############################\")\n",
        "  print(f\"Validation Accuracy : {val_mean_acc*100:.4f}    Validation Loss : {val_mean_loss:.4f}\")\n",
        "  print(\"##############################\")\n",
        "  utils.train_log(epoch, train_loss, train_acc*100, val_mean_acc*100, val_mean_loss)\n",
        "\n",
        "  his = {\n",
        "      'train_acc':train_acc*100,\n",
        "      'train_loss':train_loss,\n",
        "      'val_loss':val_mean_loss,\n",
        "      'val_acc':val_mean_acc*100\n",
        "  }\n",
        "  History.append(his)"
      ]
    },
    {
      "cell_type": "code",
      "execution_count": 8,
      "metadata": {
        "id": "hn2HLPGza464"
      },
      "outputs": [],
      "source": [
        "#model = model.cpu()\n",
        "saved_path = config.SAVED_PATH + '/' + config.MODEL + '.pth'"
      ]
    },
    {
      "cell_type": "code",
      "source": [
        "checkpoint = {'state_dict': model.state_dict(),'optimizer' :Optimizer.state_dict()}\n",
        "torch.save(checkpoint, 'Checkpoint.pth')"
      ],
      "metadata": {
        "id": "2GEiiBRZL8yC"
      },
      "execution_count": 14,
      "outputs": []
    },
    {
      "cell_type": "code",
      "execution_count": 11,
      "metadata": {
        "colab": {
          "base_uri": "https://localhost:8080/",
          "height": 36
        },
        "id": "wfiOeSbua53N",
        "outputId": "5b896e83-1aa3-4405-a797-72ec3fe1adda"
      },
      "outputs": [
        {
          "output_type": "execute_result",
          "data": {
            "text/plain": [
              "'/content/MyDrive/MyDrive/Programming/Datasets/PlantVillage/saved/ResNet50.pth'"
            ],
            "application/vnd.google.colaboratory.intrinsic+json": {
              "type": "string"
            }
          },
          "metadata": {},
          "execution_count": 11
        }
      ],
      "source": [
        "import shutil\n",
        "shutil.move(\"/content/Checkpoint.pth\", saved_path)"
      ]
    },
    {
      "cell_type": "code",
      "execution_count": 12,
      "metadata": {
        "colab": {
          "base_uri": "https://localhost:8080/",
          "height": 573
        },
        "id": "rqj8bRiRbBC9",
        "outputId": "2d1ea77d-928f-4635-a7c3-ebdff1410a1f"
      },
      "outputs": [
        {
          "output_type": "display_data",
          "data": {
            "text/plain": [
              "<Figure size 432x288 with 1 Axes>"
            ],
            "image/png": "[encoded data removed]"
          },
          "metadata": {
            "needs_background": "light"
          }
        },
        {
          "output_type": "display_data",
          "data": {
            "text/plain": [
              "<Figure size 432x288 with 1 Axes>"
            ],
            "image/png": "[encoded data removed]"
          },
          "metadata": {
            "needs_background": "light"
          }
        }
      ],
      "source": [
        "import matplotlib.pyplot as plt\n",
        "train_acc = []\n",
        "train_loss = []\n",
        "val_acc = []\n",
        "val_loss = []\n",
        "for i in range(config.EPOCHS):\n",
        "  temp1 = History[i]['train_acc']\n",
        "  temp2 = History[i]['train_loss']\n",
        "  temp3 = History[i]['val_acc']\n",
        "  temp4 = History[i]['val_loss']\n",
        "\n",
        "  train_acc.append(temp1)\n",
        "  train_loss.append(temp2)\n",
        "  val_acc.append(temp3)\n",
        "  val_loss.append(temp4)\n",
        "\n",
        "\n",
        "plt.plot(range(config.EPOCHS),train_acc,label='Train Acc')\n",
        "plt.plot(range(config.EPOCHS),val_acc,label='Val Acc')\n",
        "plt.legend()\n",
        "plt.xlabel('Epochs')\n",
        "plt.ylabel('Accuracy')\n",
        "plt.title(\"Training and Validation Accuracy\")\n",
        "plt.savefig(\"Training.png\")\n",
        "plt.show()\n",
        "\n",
        "\n",
        "plt.plot(range(config.EPOCHS),train_loss,label='Train Loss')\n",
        "plt.plot(range(config.EPOCHS),val_loss,label='Val Loss')\n",
        "plt.legend()\n",
        "plt.xlabel('Epochs')\n",
        "plt.ylabel('Loss')\n",
        "plt.title(\"Training and Validation Loss\")\n",
        "plt.savefig(\"Loss.png\")\n",
        "plt.show()"
      ]
    }
  ],
  "metadata": {
    "accelerator": "GPU",
    "colab": {
      "name": "Plant Diesase Detector.ipynb",
      "provenance": []
    },
    "kernelspec": {
      "display_name": "Python 3",
      "name": "python3"
    },
    "language_info": {
      "name": "python"
    }
  },
  "nbformat": 4,
  "nbformat_minor": 0
}